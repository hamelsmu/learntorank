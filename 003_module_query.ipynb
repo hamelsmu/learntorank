{
 "cells": [
  {
   "cell_type": "code",
   "execution_count": null,
   "id": "50a19ce1-bb8a-40c1-8ef3-ff78f60b71d9",
   "metadata": {},
   "outputs": [],
   "source": [
    "#| default_exp query"
   ]
  },
  {
   "cell_type": "code",
   "execution_count": null,
   "id": "885c918b-5721-4a0d-947e-62451a6d4c33",
   "metadata": {},
   "outputs": [],
   "source": [
    "%load_ext autoreload\n",
    "%autoreload 2"
   ]
  },
  {
   "cell_type": "code",
   "execution_count": null,
   "id": "9ec96dcb-56ee-412f-bc63-253c5b1a19b3",
   "metadata": {},
   "outputs": [],
   "source": [
    "#|hide\n",
    "from nbdev import *\n",
    "from fastcore.test import *\n",
    "from fastcore.utils import *"
   ]
  },
  {
   "cell_type": "markdown",
   "id": "14f00408-3ef3-475c-8ab4-eea43088ecae",
   "metadata": {},
   "source": [
    "# query\n",
    "> Reference API related to QueryModel related code"
   ]
  },
  {
   "cell_type": "code",
   "execution_count": null,
   "id": "7e79fb1c-ff24-4887-842d-6230f7c599f7",
   "metadata": {},
   "outputs": [],
   "source": [
    "#|export\n",
    "from typing import Optional, Dict, Callable\n",
    "from fastcore.utils import patch"
   ]
  },
  {
   "cell_type": "markdown",
   "id": "efbbdf6e-6c96-4b20-b6b5-4a8fb3ffd25e",
   "metadata": {},
   "source": [
    "## Match Filters"
   ]
  },
  {
   "cell_type": "code",
   "execution_count": null,
   "id": "d3fca8bd-3b79-4d3d-a9d3-3a54a58d0bd2",
   "metadata": {},
   "outputs": [],
   "source": [
    "#|export\n",
    "class MatchFilter(object):\n",
    "    def __init__(self) -> None:    \n",
    "        \"Abstract class for match filters.\"\n",
    "        pass"
   ]
  },
  {
   "cell_type": "code",
   "execution_count": null,
   "id": "84d88d28-4593-43e3-bcb6-f35cf49f5046",
   "metadata": {},
   "outputs": [],
   "source": [
    "#|export\n",
    "#|hide\n",
    "@patch\n",
    "def create_match_filter(\n",
    "    self: MatchFilter, \n",
    "    query: str  # Query input.\n",
    ") -> str:  # Part of the YQL expression related to the filter.\n",
    "    \"Abstract method to be implemented that creates part of the YQL expression related to the filter.\"\n",
    "    raise NotImplementedError"
   ]
  },
  {
   "cell_type": "code",
   "execution_count": null,
   "id": "2bfbe86e-d60e-4b12-96af-0c08ade2fbb6",
   "metadata": {},
   "outputs": [],
   "source": [
    "#|export\n",
    "#|hide\n",
    "@patch\n",
    "def get_query_properties(\n",
    "    self: MatchFilter, \n",
    "    query: Optional[str] = None  # Query input.\n",
    ") -> Dict:  # Contains the relevant request properties associated with the filter.\n",
    "    \"Abstract method to be implemented that get the relevant request properties associated with the filter.\"\n",
    "    raise NotImplementedError"
   ]
  },
  {
   "cell_type": "code",
   "execution_count": null,
   "id": "ffb3c718-0941-4ab8-bb30-82a61bbdd818",
   "metadata": {},
   "outputs": [],
   "source": [
    "#|export\n",
    "class AND(MatchFilter):\n",
    "    def __init__(self) -> None:\n",
    "        \"Filter that match document containing all the query terms.\"\n",
    "        super().__init__()"
   ]
  },
  {
   "cell_type": "markdown",
   "id": "b96ffa07-0096-4993-9a59-c49938e74360",
   "metadata": {},
   "source": [
    "Usage: The `AND` filter is usually used when specifying query models."
   ]
  },
  {
   "cell_type": "code",
   "execution_count": null,
   "id": "facca29b-b1f6-4996-a671-029e36956d79",
   "metadata": {},
   "outputs": [],
   "source": [
    "and_filter = AND()"
   ]
  },
  {
   "cell_type": "code",
   "execution_count": null,
   "id": "93f98a3c-01af-467d-91c0-b6a4ddd4538d",
   "metadata": {},
   "outputs": [],
   "source": [
    "#|export\n",
    "#|hide\n",
    "@patch\n",
    "def create_match_filter(\n",
    "    self: AND, \n",
    "    query: str  # Query input.  \n",
    ") -> str:  # Part of the YQL expression related to the AND filter.\n",
    "    \"Creates part of the YQL expression related to the AND filter\"\n",
    "    return '(userInput(\"{}\"))'.format(query)"
   ]
  },
  {
   "cell_type": "code",
   "execution_count": null,
   "id": "0391132e-340c-4dde-a777-fcd7919d6cb3",
   "metadata": {},
   "outputs": [],
   "source": [
    "#|export\n",
    "#|hide\n",
    "@patch\n",
    "def get_query_properties(\n",
    "    self: AND, \n",
    "    query: Optional[str] = None  # Query input.\n",
    ") -> Dict:  # Get the relevant request properties associated with the AND filter.\n",
    "    \"Get the relevant request properties associated with the AND filter.\"\n",
    "    return {}\n"
   ]
  },
  {
   "cell_type": "code",
   "execution_count": null,
   "id": "d26c32f3-78de-4b39-80e3-bdf0683077de",
   "metadata": {},
   "outputs": [],
   "source": [
    "#|hide\n",
    "query = \"this is  a test\"\n",
    "test_eq(\n",
    "    and_filter.create_match_filter(query),\n",
    "    '(userInput(\"this is  a test\"))',\n",
    ")\n",
    "test_eq(and_filter.get_query_properties(query), {})"
   ]
  },
  {
   "cell_type": "code",
   "execution_count": null,
   "id": "c78a3e4f-a874-49cc-a4ad-9e8c1b545bb4",
   "metadata": {},
   "outputs": [],
   "source": [
    "#|export\n",
    "class OR(MatchFilter):\n",
    "    def __init__(self) -> None:\n",
    "        \"Filter that match any document containing at least one query term.\"\n",
    "        super().__init__()"
   ]
  },
  {
   "cell_type": "markdown",
   "id": "bbf112de-fbdf-4cd8-b7ca-2b0f8e0a45c1",
   "metadata": {},
   "source": [
    "Usage: The `OR` filter is usually used when specifying query models."
   ]
  },
  {
   "cell_type": "code",
   "execution_count": null,
   "id": "fc9481c6-0314-4905-83ee-f76b27c7b833",
   "metadata": {},
   "outputs": [],
   "source": [
    "or_filter = OR()"
   ]
  },
  {
   "cell_type": "code",
   "execution_count": null,
   "id": "122c8920-60ae-4e20-9362-2a85f26a1f34",
   "metadata": {},
   "outputs": [],
   "source": [
    "#|export \n",
    "#|hide\n",
    "@patch\n",
    "def create_match_filter(\n",
    "    self: OR, \n",
    "    query: str  # Query input.\n",
    ") -> str:  # Part of the YQL expression related to the OR filter.\n",
    "    \"Creates part of the YQL expression related to the OR filter\"    \n",
    "    return '({{grammar: \"any\"}}userInput(\"{}\"))'.format(query)"
   ]
  },
  {
   "cell_type": "code",
   "execution_count": null,
   "id": "fc2fb933-0110-4d5b-849c-ea860883d5f4",
   "metadata": {},
   "outputs": [],
   "source": [
    "#|export\n",
    "#|hide\n",
    "@patch\n",
    "def get_query_properties(\n",
    "    self: OR, \n",
    "    query: Optional[str] = None  # Query input.\n",
    ") -> Dict:  # Get the relevant request properties associated with the OR filter.\n",
    "    \"Get the relevant request properties associated with the OR filter.\"    \n",
    "    return {}"
   ]
  },
  {
   "cell_type": "code",
   "execution_count": null,
   "id": "32a60e35-7a05-45a1-ba67-0d7c1fc9ca76",
   "metadata": {},
   "outputs": [],
   "source": [
    "#|hide\n",
    "query = \"this is  a test\"\n",
    "test_eq(\n",
    "    or_filter.create_match_filter(query=query),\n",
    "    '({grammar: \"any\"}userInput(\"this is  a test\"))',\n",
    ")\n",
    "test_eq(or_filter.get_query_properties(query=query), {})"
   ]
  },
  {
   "cell_type": "code",
   "execution_count": null,
   "id": "ee5aad19-a9ba-4f15-9cc4-11f15fdcac36",
   "metadata": {},
   "outputs": [],
   "source": [
    "#|export\n",
    "class WeakAnd(MatchFilter):\n",
    "    def __init__(\n",
    "        self, \n",
    "        hits: int,  # Lower bound on the number of hits to be retrieved. \n",
    "        field: str = \"default\"  # Which Vespa field to search.\n",
    "    ) -> None:\n",
    "        \"\"\"\n",
    "        Match documents according to the weakAND algorithm.\n",
    "\n",
    "        Reference: [https://docs.vespa.ai/en/using-wand-with-vespa.html](https://docs.vespa.ai/en/using-wand-with-vespa.html)\n",
    "        \"\"\"\n",
    "        super().__init__()\n",
    "        self.hits = hits\n",
    "        self.field = field"
   ]
  },
  {
   "cell_type": "markdown",
   "id": "3d88d45b-7cca-4b7a-96db-ef164d9d3300",
   "metadata": {},
   "source": [
    "Usage: The `WeakAnd` filter is usually used when specifying query models."
   ]
  },
  {
   "cell_type": "code",
   "execution_count": null,
   "id": "6ec8c50a-69d3-4218-aff4-86d8db668033",
   "metadata": {},
   "outputs": [],
   "source": [
    "weakand_filter = WeakAnd(hits=10, field=\"default\")"
   ]
  },
  {
   "cell_type": "code",
   "execution_count": null,
   "id": "951b6f4f-e1e3-489c-8e1a-76eb48a600f4",
   "metadata": {},
   "outputs": [],
   "source": [
    "#|export\n",
    "#|hide\n",
    "@patch\n",
    "def create_match_filter(\n",
    "    self: WeakAnd, \n",
    "    query: str  # Query input.\n",
    ") -> str:  # Part of the YQL expression related to the WeakAnd filter.\n",
    "    \"Creates part of the YQL expression related to the WeakAnd filter\"\n",
    "    query_tokens = query.split(\" \")\n",
    "    terms = \", \".join(\n",
    "        ['{} contains \"{}\"'.format(self.field, token) for token in query_tokens]\n",
    "    )\n",
    "    return '({{targetHits: {}}}weakAnd({}))'.format(self.hits, terms)\n"
   ]
  },
  {
   "cell_type": "code",
   "execution_count": null,
   "id": "12ed6f1f-c77c-45aa-9071-48aa07ef35ec",
   "metadata": {},
   "outputs": [],
   "source": [
    "#|export\n",
    "#|hide\n",
    "@patch\n",
    "def get_query_properties(\n",
    "    self: WeakAnd, \n",
    "    query: Optional[str] = None  # Query input.\n",
    ") -> Dict:  # Get the relevant request properties associated with the WeakAnd filter.\n",
    "    \"Get the relevant request properties associated with the WeakAnd filter.\"        \n",
    "    return {}"
   ]
  },
  {
   "cell_type": "code",
   "execution_count": null,
   "id": "f7212982-da08-4ef2-ab90-fc0a0d54741b",
   "metadata": {},
   "outputs": [],
   "source": [
    "#|hide\n",
    "weakand_filter = WeakAnd(hits=10, field=\"field_name\")\n",
    "query = \"this is  a test\"\n",
    "test_eq(\n",
    "    weakand_filter.create_match_filter(query=query),\n",
    "    '({targetHits: 10}weakAnd(field_name contains \"this\", field_name contains \"is\", field_name contains \"\", '\n",
    "    'field_name contains \"a\", field_name contains \"test\"))',\n",
    ")\n",
    "test_eq(weakand_filter.get_query_properties(query=query), {})"
   ]
  },
  {
   "cell_type": "code",
   "execution_count": null,
   "id": "eae83e4d-5e73-430b-89fa-6b8dd5b4b605",
   "metadata": {},
   "outputs": [],
   "source": [
    "#|export\n",
    "class ANN(MatchFilter):\n",
    "    def __init__(\n",
    "        self,\n",
    "        doc_vector: str,  # Name of the document field to be used in the distance calculation.\n",
    "        query_vector: str,  # Name of the query field to be used in the distance calculation.\n",
    "        hits: int,  # Lower bound on the number of hits to return.\n",
    "        label: str,  # A label to identify this specific operator instance.\n",
    "        approximate: bool = True,  # True to use approximate nearest neighbor and False to use brute force. Default to True.\n",
    "    ) -> None:\n",
    "        \"\"\"\n",
    "        Match documents according to the nearest neighbor operator.\n",
    "\n",
    "        Reference: [https://docs.vespa.ai/en/reference/query-language-reference.html](https://docs.vespa.ai/en/reference/query-language-reference.html)\n",
    "        \"\"\"\n",
    "        super().__init__()\n",
    "        self.doc_vector = doc_vector\n",
    "        self.query_vector = query_vector\n",
    "        self.hits = hits\n",
    "        self.label = label\n",
    "        self.approximate = approximate\n",
    "        self._approximate = \"true\" if self.approximate is True else \"false\""
   ]
  },
  {
   "cell_type": "markdown",
   "id": "aad13e04-afe4-43bf-8788-f32e46e5df7d",
   "metadata": {},
   "source": [
    "Usage: The `ANN` filter is usually used when specifying query models."
   ]
  },
  {
   "cell_type": "markdown",
   "id": "1402c564-3beb-42c1-8e30-24ab5289dadd",
   "metadata": {},
   "source": [
    "By default, the `ANN` operator uses approximate nearest neighbor:"
   ]
  },
  {
   "cell_type": "code",
   "execution_count": null,
   "id": "e2194510-e419-4506-a2c8-7491e0693b67",
   "metadata": {},
   "outputs": [],
   "source": [
    "match_filter = ANN(\n",
    "    doc_vector=\"doc_vector\",\n",
    "    query_vector=\"query_vector\",\n",
    "    hits=10,\n",
    "    label=\"label\",\n",
    ")"
   ]
  },
  {
   "cell_type": "markdown",
   "id": "539c5802-d82f-4c07-a056-df6260962331",
   "metadata": {},
   "source": [
    "Brute-force can be used by specifying `approximate=False`:"
   ]
  },
  {
   "cell_type": "code",
   "execution_count": null,
   "id": "cf93d47c-7ee9-49b7-a736-cc8475b6bc5a",
   "metadata": {},
   "outputs": [],
   "source": [
    "ann_filter = ANN(\n",
    "    doc_vector=\"doc_vector\",\n",
    "    query_vector=\"query_vector\",\n",
    "    hits=10,\n",
    "    label=\"label\",\n",
    "    approximate=False,\n",
    ")"
   ]
  },
  {
   "cell_type": "code",
   "execution_count": null,
   "id": "d7a50b6b-3ca9-48c0-8e4e-66f6c9303a73",
   "metadata": {},
   "outputs": [],
   "source": [
    "#|export\n",
    "#|hide\n",
    "@patch\n",
    "def create_match_filter(\n",
    "    self: ANN, \n",
    "    query: str  # Query input is ignored in the ANN case.\n",
    ") -> str:  # Part of the YQL expression related to the ANN filter.\n",
    "    \"Creates part of the YQL expression related to the ANN filter\"    \n",
    "    return '({{targetHits: {}, label: \"{}\", approximate: {}}}nearestNeighbor({}, {}))'.format(\n",
    "        self.hits, self.label, self._approximate, self.doc_vector, self.query_vector\n",
    "    )"
   ]
  },
  {
   "cell_type": "code",
   "execution_count": null,
   "id": "dbc49f58-0371-4edb-a584-bc810cb005d5",
   "metadata": {},
   "outputs": [],
   "source": [
    "#|export\n",
    "#|hide\n",
    "@patch\n",
    "def get_query_properties(\n",
    "    self: ANN, \n",
    "    query: Optional[str] = None  # Query input is ignored in the ANN case.\n",
    ") -> Dict[str, str]:  # Get the relevant request properties associated with the ANN filter.\n",
    "    \"Get the relevant request properties associated with the ANN filter.\"            \n",
    "    return {}"
   ]
  },
  {
   "cell_type": "code",
   "execution_count": null,
   "id": "cade5791-3ab6-40e5-b1b4-c11bb15c11d1",
   "metadata": {},
   "outputs": [],
   "source": [
    "#|hide\n",
    "query = \"query string has no effect here\"\n",
    "match_filter = ANN(\n",
    "    doc_vector=\"doc_vector\",\n",
    "    query_vector=\"query_vector\",\n",
    "    hits=10,\n",
    "    label=\"label\",\n",
    ")\n",
    "test_eq(\n",
    "    match_filter.create_match_filter(query=query),\n",
    "    '({targetHits: 10, label: \"label\", approximate: true}nearestNeighbor(doc_vector, query_vector))',\n",
    ")\n",
    "test_eq(\n",
    "    match_filter.get_query_properties(query=query),\n",
    "    {},\n",
    ")"
   ]
  },
  {
   "cell_type": "code",
   "execution_count": null,
   "id": "7c739915-ec55-4935-98fc-c0a4fa222e78",
   "metadata": {},
   "outputs": [],
   "source": [
    "#|hide\n",
    "query = \"query string has no effect here\"\n",
    "match_filter = ANN(\n",
    "    doc_vector=\"doc_vector\",\n",
    "    query_vector=\"query_vector\",\n",
    "    hits=10,\n",
    "    label=\"label\",\n",
    "    approximate=False,\n",
    ")\n",
    "test_eq(\n",
    "    match_filter.create_match_filter(query=query),\n",
    "    '({targetHits: 10, label: \"label\", approximate: false}nearestNeighbor(doc_vector, query_vector))',\n",
    ")\n",
    "test_eq(\n",
    "    match_filter.get_query_properties(query=query),\n",
    "    {},\n",
    ")"
   ]
  },
  {
   "cell_type": "code",
   "execution_count": null,
   "id": "7987b2ec-2a4e-4118-99d9-73857fae0495",
   "metadata": {},
   "outputs": [],
   "source": [
    "#|export\n",
    "class Union(MatchFilter):\n",
    "    def __init__(\n",
    "        self, \n",
    "        *args: MatchFilter  # Match filters to be taken the union of.\n",
    "    ) -> None:\n",
    "        \"Match documents that belongs to the union of many match filters.\"\n",
    "        super().__init__()\n",
    "        self.operators = args"
   ]
  },
  {
   "cell_type": "markdown",
   "id": "95ec5c5f-31e2-40a1-b6cb-0261cf52f0e6",
   "metadata": {},
   "source": [
    "Usage: The `Union` filter is usually used when specifying query models."
   ]
  },
  {
   "cell_type": "code",
   "execution_count": null,
   "id": "94b0c764-cc97-4153-b140-f2a693613a23",
   "metadata": {},
   "outputs": [],
   "source": [
    "union_filter = Union(\n",
    "    WeakAnd(hits=10, field=\"field_name\"),\n",
    "    ANN(\n",
    "        doc_vector=\"doc_vector\",\n",
    "        query_vector=\"query_vector\",\n",
    "        hits=10,\n",
    "        label=\"label\",\n",
    "    ),\n",
    ")"
   ]
  },
  {
   "cell_type": "code",
   "execution_count": null,
   "id": "2b6273a2-9cf3-4db1-9f1c-ca7b42b75aa5",
   "metadata": {},
   "outputs": [],
   "source": [
    "#|export\n",
    "#|hide\n",
    "@patch\n",
    "def create_match_filter(\n",
    "    self: Union, \n",
    "    query: str  # Query input.\n",
    ") -> str:  # Part of the YQL expression related to the Union filter.\n",
    "    \"Creates part of the YQL expression related to the Union filter\"    \n",
    "    match_filters = []\n",
    "    for operator in self.operators:\n",
    "        match_filter = operator.create_match_filter(query=query)\n",
    "        if match_filter is not None:\n",
    "            match_filters.append(match_filter)\n",
    "    return \" or \".join(match_filters)"
   ]
  },
  {
   "cell_type": "code",
   "execution_count": null,
   "id": "4af2916a-cced-4940-96a9-e673877b2b41",
   "metadata": {},
   "outputs": [],
   "source": [
    "#|export\n",
    "#|hide\n",
    "@patch\n",
    "def get_query_properties(\n",
    "    self: Union,  # Query input. \n",
    "    query: Optional[str] = None  # Get the relevant request properties associated with the Union filter.\n",
    ") -> Dict[str, str]:  # Get the relevant request properties associated with the Union filter.\n",
    "    query_properties = {}\n",
    "    for operator in self.operators:\n",
    "        query_properties.update(operator.get_query_properties(query=query))\n",
    "    return query_properties"
   ]
  },
  {
   "cell_type": "code",
   "execution_count": null,
   "id": "226d79a4-9cef-430d-b2a3-83563e36632c",
   "metadata": {},
   "outputs": [],
   "source": [
    "#|hide\n",
    "query = \"this is  a test\"\n",
    "match_filter = Union(\n",
    "    WeakAnd(hits=10, field=\"field_name\"),\n",
    "    ANN(\n",
    "        doc_vector=\"doc_vector\",\n",
    "        query_vector=\"query_vector\",\n",
    "        hits=10,\n",
    "        label=\"label\",\n",
    "    ),\n",
    ")\n",
    "test_eq(\n",
    "    match_filter.create_match_filter(query=query),\n",
    "    '({targetHits: 10}weakAnd(field_name contains \"this\", field_name contains \"is\", '\n",
    "    'field_name contains \"\", '\n",
    "    'field_name contains \"a\", field_name contains \"test\")) or '\n",
    "    '({targetHits: 10, label: \"label\", approximate: true}nearestNeighbor(doc_vector, query_vector))',\n",
    ")\n",
    "test_eq(\n",
    "    match_filter.get_query_properties(query=query),\n",
    "    {},\n",
    ")"
   ]
  },
  {
   "cell_type": "markdown",
   "id": "fa7646f1-a275-485e-9e80-0e83652017be",
   "metadata": {},
   "source": [
    "## Ranking"
   ]
  },
  {
   "cell_type": "code",
   "execution_count": null,
   "id": "48649f3c-4e72-439d-b783-e58acddc7fc7",
   "metadata": {},
   "outputs": [],
   "source": [
    "#|export\n",
    "class Ranking(object):\n",
    "    def __init__(\n",
    "        self, \n",
    "        name: str = \"default\",  # Name of the rank profile as defined in a Vespa search definition.\n",
    "        list_features: bool = False  # Should the ranking features be returned. Either 'true' or 'false'.\n",
    "    ) -> None:\n",
    "        \"Define the rank profile to be used during ranking.\"\n",
    "        self.name = name\n",
    "        self.list_features = \"false\"\n",
    "        if list_features:\n",
    "            self.list_features = \"true\""
   ]
  },
  {
   "cell_type": "markdown",
   "id": "c7b328b6-fdae-4ca5-bfcd-a728660b9cad",
   "metadata": {},
   "source": [
    "Usage: `Ranking` is usually used when specifying query models."
   ]
  },
  {
   "cell_type": "code",
   "execution_count": null,
   "id": "f3ebc369-f585-4d1e-b1ae-b244e46b97e4",
   "metadata": {},
   "outputs": [],
   "source": [
    "ranking = Ranking(name=\"bm25\", list_features=True)"
   ]
  },
  {
   "cell_type": "code",
   "execution_count": null,
   "id": "cfd02daf-68b3-4538-8c85-96dfb19c9144",
   "metadata": {},
   "outputs": [],
   "source": [
    "#|hide\n",
    "ranking = Ranking(name=\"rank_profile\", list_features=True)\n",
    "test_eq(ranking.name, \"rank_profile\")\n",
    "test_eq(ranking.list_features, \"true\")"
   ]
  },
  {
   "cell_type": "markdown",
   "id": "b95a90b9-5349-47cd-a132-cf204798f58f",
   "metadata": {},
   "source": [
    "## Query properties"
   ]
  },
  {
   "cell_type": "code",
   "execution_count": null,
   "id": "a256f850-57f3-4550-9e21-a58ff39a968a",
   "metadata": {},
   "outputs": [],
   "source": [
    "#|export\n",
    "class QueryProperty(object):\n",
    "    def __init__(self) -> None:    \n",
    "        \"Abstract class for query property.\"\n",
    "        pass    "
   ]
  },
  {
   "cell_type": "code",
   "execution_count": null,
   "id": "93a459f4-f8e6-41bf-a9a2-648086ce405f",
   "metadata": {},
   "outputs": [],
   "source": [
    "#|export\n",
    "#|hide\n",
    "@patch\n",
    "def get_query_properties(\n",
    "    self: QueryProperty, \n",
    "    query: Optional[str] = None  # Query input.\n",
    ") -> Dict:  # Contains the relevant request properties to be included in the query.\n",
    "    \"Extract query property syntax.\"\n",
    "    raise NotImplementedError\n"
   ]
  },
  {
   "cell_type": "code",
   "execution_count": null,
   "id": "fd4fb173-39f3-40ad-83de-06598d29af9e",
   "metadata": {},
   "outputs": [],
   "source": [
    "#|export\n",
    "class QueryRankingFeature(QueryProperty):\n",
    "    def __init__(\n",
    "        self,\n",
    "        name: str,  # Name of the feature.\n",
    "        mapping: Callable[[str], List[float]],  # Function mapping a string to a list of floats.\n",
    "    ) -> None:\n",
    "        \"Include ranking.feature.query into a Vespa query.\"\n",
    "        super().__init__()\n",
    "        self.name = name\n",
    "        self.mapping = mapping"
   ]
  },
  {
   "cell_type": "markdown",
   "id": "b2b3f809-54bd-443c-adda-9e15ae66c555",
   "metadata": {},
   "source": [
    "Usage: `QueryRankingFeature` is usually used when specifying query models."
   ]
  },
  {
   "cell_type": "code",
   "execution_count": null,
   "id": "a58dc22b-f238-4d3b-801e-eb2f11c48e74",
   "metadata": {},
   "outputs": [],
   "source": [
    "query_property = QueryRankingFeature(\n",
    "    name=\"query_vector\", mapping=lambda x: [1, 2, 3]\n",
    ")"
   ]
  },
  {
   "cell_type": "code",
   "execution_count": null,
   "id": "375441bd-cdc6-4bb9-971b-3e22442cd720",
   "metadata": {},
   "outputs": [],
   "source": [
    "#|export\n",
    "#|hide\n",
    "@patch\n",
    "def get_query_properties(\n",
    "    self: QueryRankingFeature, \n",
    "    query: Optional[str] = None  # Query input.\n",
    ") -> Dict[str, str]:  # Contains the relevant request properties to be included in the query.\n",
    "    value = self.mapping(query)\n",
    "    return {\"ranking.features.query({})\".format(self.name): str(value)}"
   ]
  },
  {
   "cell_type": "code",
   "execution_count": null,
   "id": "ebd9ffd0-344a-4f84-a3b6-0f84aef3079c",
   "metadata": {},
   "outputs": [],
   "source": [
    "#|hide\n",
    "query = \"this is  a test\"\n",
    "query_property = QueryRankingFeature(\n",
    "    name=\"query_vector\", mapping=lambda x: [1, 2, 3]\n",
    ")\n",
    "test_eq(\n",
    "    query_property.get_query_properties(query=query),\n",
    "    {\"ranking.features.query(query_vector)\": \"[1, 2, 3]\"},\n",
    ")"
   ]
  },
  {
   "cell_type": "markdown",
   "id": "f5ef348d-55f8-4ea4-a65f-df57db794a4a",
   "metadata": {},
   "source": [
    "## Query model"
   ]
  },
  {
   "cell_type": "code",
   "execution_count": null,
   "id": "86fa85c2-9708-49a0-b847-1454f3a55af4",
   "metadata": {},
   "outputs": [],
   "source": [
    "#|export\n",
    "class QueryModel(object):\n",
    "    def __init__(\n",
    "        self,\n",
    "        name: str = \"default_name\",  # Name of the query model. Used to tag model-related quantities, like evaluation metrics.\n",
    "        query_properties: Optional[List[QueryProperty]] = None,  # Query properties to be included in the queries.\n",
    "        match_phase: MatchFilter = AND(),  # Define the match criteria.\n",
    "        ranking: Ranking = Ranking(),  # Define the rank criteria.\n",
    "        body_function: Optional[Callable[[str], Dict]] = None,  # Function that take query as parameter and returns the body of a Vespa query.\n",
    "    ) -> None:\n",
    "        \"\"\"\n",
    "        Define a query model.\n",
    "\n",
    "        A `QueryModel` is an abstraction that encapsulates all the relevant information\n",
    "        controlling how a Vespa app matches and ranks documents.\n",
    "        \"\"\"\n",
    "        self.name = name\n",
    "        self.query_properties = query_properties if query_properties is not None else []\n",
    "        self.match_phase = match_phase\n",
    "        self.ranking = ranking\n",
    "        self.body_function = body_function\n"
   ]
  },
  {
   "cell_type": "markdown",
   "id": "bc616185-3d29-4c1c-aa8d-7680075f023b",
   "metadata": {},
   "source": [
    "Usage:"
   ]
  },
  {
   "cell_type": "markdown",
   "id": "1301c52c-7072-4647-89b5-52196e78f536",
   "metadata": {},
   "source": [
    "Specify a query model with default configurations:"
   ]
  },
  {
   "cell_type": "code",
   "execution_count": null,
   "id": "a724cef8-4ba5-45e0-824e-e0ed56cbcab5",
   "metadata": {},
   "outputs": [],
   "source": [
    "query_model = QueryModel()"
   ]
  },
  {
   "cell_type": "markdown",
   "id": "61bc3c86-eb1a-4a99-a487-707bf1c19039",
   "metadata": {},
   "source": [
    "Specify match phase, ranking phase and properties used by them."
   ]
  },
  {
   "cell_type": "code",
   "execution_count": null,
   "id": "a72fdfce-9cc9-436f-b4f1-193b3a675d63",
   "metadata": {},
   "outputs": [],
   "source": [
    "query_model = QueryModel(\n",
    "    query_properties=[\n",
    "        QueryRankingFeature(name=\"query_embedding\", mapping=lambda x: [1, 2, 3])\n",
    "    ],\n",
    "    match_phase=ANN(\n",
    "        doc_vector=\"document_embedding\",\n",
    "        query_vector=\"query_embedding\",\n",
    "        hits=10,\n",
    "        label=\"label\",\n",
    "    ),\n",
    "    ranking=Ranking(name=\"bm25_plus_embeddings\", list_features=True),\n",
    ")"
   ]
  },
  {
   "cell_type": "markdown",
   "id": "fcdaa003-b709-44ee-b771-4a54310a7d8f",
   "metadata": {},
   "source": [
    "Specify a query model based on a function that output Vespa YQL."
   ]
  },
  {
   "cell_type": "code",
   "execution_count": null,
   "id": "30409603-be14-46f5-b330-c1c491072436",
   "metadata": {},
   "outputs": [],
   "source": [
    "def body_function(query):\n",
    "    body = {\n",
    "        \"yql\": \"select * from sources * where userQuery();\",\n",
    "        \"query\": query,\n",
    "        \"type\": \"any\",\n",
    "        \"ranking\": {\"profile\": \"bm25\", \"listFeatures\": \"true\"},\n",
    "    }\n",
    "    return body\n",
    "\n",
    "query_model = QueryModel(body_function=body_function)"
   ]
  },
  {
   "cell_type": "code",
   "execution_count": null,
   "id": "6bd913d5-3fae-4de5-867e-12e092a1b029",
   "metadata": {},
   "outputs": [],
   "source": [
    "#|export\n",
    "#|hide\n",
    "@patch\n",
    "def create_body(\n",
    "    self: QueryModel, \n",
    "    query: str  # Query string.\n",
    ") -> Dict[str, str]:  # Request body\n",
    "    \"Create the appropriate request body to be sent to Vespa.\"\n",
    "\n",
    "    if self.body_function:\n",
    "        body = self.body_function(query)\n",
    "        return body\n",
    "\n",
    "    query_properties = {}\n",
    "    for query_property in self.query_properties:\n",
    "        query_properties.update(query_property.get_query_properties(query=query))\n",
    "    query_properties.update(self.match_phase.get_query_properties(query=query))\n",
    "\n",
    "    match_filter = self.match_phase.create_match_filter(query=query)\n",
    "\n",
    "    body = {\n",
    "        \"yql\": \"select * from sources * where {};\".format(match_filter),\n",
    "        \"ranking\": {\n",
    "            \"profile\": self.ranking.name,\n",
    "            \"listFeatures\": self.ranking.list_features,\n",
    "        },\n",
    "    }\n",
    "    body.update(query_properties)\n",
    "    return body"
   ]
  },
  {
   "cell_type": "code",
   "execution_count": null,
   "id": "bc9aba22-b4a9-4078-bebe-4f1158cdc587",
   "metadata": {},
   "outputs": [],
   "source": [
    "#|hide\n",
    "query = \"this is  a test\"\n",
    "query_model = QueryModel()\n",
    "test_eq(\n",
    "    query_model.create_body(query=query),\n",
    "    {\n",
    "        \"yql\": 'select * from sources * where (userInput(\"this is  a test\"));',\n",
    "        \"ranking\": {\"profile\": \"default\", \"listFeatures\": \"false\"},\n",
    "    },\n",
    ")"
   ]
  },
  {
   "cell_type": "code",
   "execution_count": null,
   "id": "690ff95c-8ac0-4b2c-806e-bcf9fe8099dc",
   "metadata": {},
   "outputs": [],
   "source": [
    "#|hide\n",
    "query = \"this is  a test\"\n",
    "def body_function(query):\n",
    "    body = {\n",
    "        \"yql\": \"select * from sources * where userQuery();\",\n",
    "        \"query\": query,\n",
    "        \"type\": \"any\",\n",
    "        \"ranking\": {\"profile\": \"bm25\", \"listFeatures\": \"true\"},\n",
    "    }\n",
    "    return body\n",
    "\n",
    "query_model = QueryModel(body_function=body_function)\n",
    "test_eq(\n",
    "    query_model.create_body(query=query),\n",
    "    {\n",
    "        \"yql\": \"select * from sources * where userQuery();\",\n",
    "        \"query\": \"this is  a test\",\n",
    "        \"type\": \"any\",\n",
    "        \"ranking\": {\"profile\": \"bm25\", \"listFeatures\": \"true\"},\n",
    "    },\n",
    ")"
   ]
  },
  {
   "cell_type": "code",
   "execution_count": null,
   "id": "e1af818a-c1b3-47af-bb07-218b907d67da",
   "metadata": {},
   "outputs": [],
   "source": [
    "#|hide\n",
    "query = \"this is  a test\"\n",
    "query_model = QueryModel(\n",
    "    query_properties=[\n",
    "        QueryRankingFeature(name=\"query_vector\", mapping=lambda x: [1, 2, 3])\n",
    "    ],\n",
    "    match_phase=OR(),\n",
    "    ranking=Ranking(name=\"bm25\", list_features=True),\n",
    ")\n",
    "test_eq(\n",
    "    query_model.create_body(query=query),\n",
    "    {\n",
    "        \"yql\": 'select * from sources * where ({grammar: \"any\"}userInput(\"this is  a test\"));',\n",
    "        \"ranking\": {\"profile\": \"bm25\", \"listFeatures\": \"true\"},\n",
    "        \"ranking.features.query(query_vector)\": \"[1, 2, 3]\",\n",
    "    },\n",
    ")"
   ]
  },
  {
   "cell_type": "code",
   "execution_count": null,
   "id": "d9cf938e-ec21-4a05-bf8c-e5d746b9315f",
   "metadata": {},
   "outputs": [],
   "source": [
    "#|hide\n",
    "query = \"this is  a test\"\n",
    "query_model = QueryModel(\n",
    "    query_properties=[\n",
    "        QueryRankingFeature(name=\"query_vector\", mapping=lambda x: [1, 2, 3])\n",
    "    ],\n",
    "    match_phase=ANN(\n",
    "        doc_vector=\"doc_vector\",\n",
    "        query_vector=\"query_vector\",\n",
    "        hits=10,\n",
    "        label=\"label\",\n",
    "    ),\n",
    "    ranking=Ranking(name=\"bm25\", list_features=True),\n",
    ")\n",
    "test_eq(\n",
    "    query_model.create_body(query=query),\n",
    "    {\n",
    "        \"yql\": 'select * from sources * where ({targetHits: 10, label: \"label\", approximate: true}nearestNeighbor(doc_vector, query_vector));',\n",
    "        \"ranking\": {\"profile\": \"bm25\", \"listFeatures\": \"true\"},\n",
    "        \"ranking.features.query(query_vector)\": \"[1, 2, 3]\",\n",
    "    },\n",
    ")"
   ]
  },
  {
   "cell_type": "code",
   "execution_count": null,
   "id": "f0d77781-8f0d-46d0-92f6-22ef8b25719d",
   "metadata": {},
   "outputs": [],
   "source": [
    "#|hide\n",
    "nbdev_export()"
   ]
  }
 ],
 "metadata": {
  "kernelspec": {
   "display_name": "learntorank",
   "language": "python",
   "name": "learntorank"
  }
 },
 "nbformat": 4,
 "nbformat_minor": 5
}
