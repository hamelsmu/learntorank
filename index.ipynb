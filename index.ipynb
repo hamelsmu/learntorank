{
 "cells": [
  {
   "cell_type": "code",
   "execution_count": null,
   "metadata": {},
   "outputs": [],
   "source": [
    "#|hide\n",
    "from learntorank.passage import *"
   ]
  },
  {
   "cell_type": "markdown",
   "metadata": {},
   "source": [
    "# Vespa for Data Scientists\n",
    "\n",
    "> Library and documentation to support Vespa data science use cases."
   ]
  },
  {
   "cell_type": "markdown",
   "metadata": {},
   "source": [
    "## Motivation"
   ]
  },
  {
   "cell_type": "markdown",
   "metadata": {},
   "source": [
    "This library contains application specific code related to data manipulation and analysis of different Vespa use cases. The [Vespa python API](https://pyvespa.readthedocs.io/) is used to interact with Vespa applications from python for faster exploration."
   ]
  },
  {
   "cell_type": "markdown",
   "metadata": {},
   "source": [
    "The main goal of this space is to facilitate prototyping and experimentation for data scientists. Please visit Vespa [sample apps](https://github.com/vespa-engine/sample-apps/) for producuction-ready use cases and [Vespa docs](https://docs.vespa.ai/) for in-depth Vespa documentation."
   ]
  },
  {
   "cell_type": "markdown",
   "metadata": {},
   "source": [
    "## Install"
   ]
  },
  {
   "cell_type": "markdown",
   "metadata": {},
   "source": [
    "Code to support and reproduce the usecases documented here can be found in the `learntorank` library. "
   ]
  },
  {
   "cell_type": "markdown",
   "metadata": {},
   "source": [
    "Install via PyPI:"
   ]
  },
  {
   "cell_type": "markdown",
   "metadata": {},
   "source": [
    "`pip install learntorank`"
   ]
  }
 ],
 "metadata": {
  "kernelspec": {
   "display_name": "learntorank",
   "language": "python",
   "name": "learntorank"
  }
 },
 "nbformat": 4,
 "nbformat_minor": 4
}
