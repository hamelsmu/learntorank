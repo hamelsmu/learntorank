{
 "cells": [
  {
   "cell_type": "raw",
   "metadata": {},
   "source": [
    "---\n",
    "output-file: sample_size_effect_evaluation\n",
    "---"
   ]
  },
  {
   "cell_type": "raw",
   "metadata": {},
   "source": [
    "---\n",
    "skip_showdoc: true\n",
    "skip_exec: true\n",
    "---"
   ]
  },
  {
   "cell_type": "code",
   "execution_count": null,
   "metadata": {},
   "outputs": [],
   "source": [
    "%load_ext autoreload\n",
    "%autoreload 2"
   ]
  },
  {
   "cell_type": "code",
   "execution_count": null,
   "metadata": {},
   "outputs": [],
   "source": [
    "#|hide\n",
    "from nbdev import show_doc, nbdev_export"
   ]
  },
  {
   "cell_type": "markdown",
   "metadata": {},
   "source": [
    "# Sample size effect on evaluation metrics\n",
    "\n",
    "> What is the optimal sample size to compare experiments?"
   ]
  },
  {
   "cell_type": "markdown",
   "metadata": {},
   "source": [
    "There are basically three options to choose from when selecting the method to match text fields to text queries using lexical matching. \n",
    "\n",
    "1. The `AND` operator (`grammar: all` in Vespa) match the documents that contains *all* of the query terms.\n",
    "\n",
    "2. The `OR` operator (`grammar: any` in Vespa) match the documents that contains *at least one* of the query terms.\n",
    "\n",
    "3. The `weakAND` operator (`grammar: weakAnd`) attempts to match the best scoring documents without exhaustive scoring all documents which matches any of the terms in the query."
   ]
  },
  {
   "cell_type": "markdown",
   "metadata": {},
   "source": [
    "The intuition from the definitions above is that the `AND` operator will match fewer documents leading to fast responses but low recall while the `OR` operator will match more documents leading to slow response but higher recall. The hope with the `weakAND` operator is to dratically reduce the number of matched documents without a significant impact on recall. **The best way to understand those trade-offs is to make experiments.**"
   ]
  },
  {
   "cell_type": "markdown",
   "metadata": {},
   "source": [
    "## Match-phase experiments"
   ]
  },
  {
   "cell_type": "markdown",
   "metadata": {},
   "source": [
    "We are going to use the [passage ranking dataset](https://vespa-engine.github.io/learntorank/passage_dataset.html) to build a text search application and run the experiments shown here. The code and the data used in this end-to-end tutorial are available and can be reproduced in a Jupyter Notebook. The core of the experiments is based on the [learntorank](https://github.com/vespa-engine/learntorank) library."
   ]
  },
  {
   "cell_type": "markdown",
   "metadata": {},
   "source": [
    "### Evaluation metrics"
   ]
  },
  {
   "cell_type": "code",
   "execution_count": null,
   "metadata": {},
   "outputs": [],
   "source": [
    "from learntorank.evaluation import (\n",
    "    MatchRatio,\n",
    "    TimeQuery,\n",
    "    Recall, \n",
    "    ReciprocalRank, \n",
    ")"
   ]
  },
  {
   "cell_type": "markdown",
   "metadata": {},
   "source": [
    "We want to measure the number of the documents matched as a percentage of the size of the document corpus (`MatchRatio`) and the time it takes to perform a query (`TimeQuery`). In addition, we want one metric to evaluate recall (`Recall`) and one to evaluate precision (`ReciprocalRank`)."
   ]
  },
  {
   "cell_type": "code",
   "execution_count": null,
   "metadata": {},
   "outputs": [],
   "source": [
    "metrics = [\n",
    "    MatchRatio(),\n",
    "    TimeQuery(),\n",
    "    Recall(at=100), \n",
    "    ReciprocalRank(at=10), \n",
    "]"
   ]
  },
  {
   "cell_type": "markdown",
   "metadata": {},
   "source": [
    "### Text search app and feed data"
   ]
  },
  {
   "cell_type": "markdown",
   "metadata": {},
   "source": [
    "Create a Vespa application package to perform passage ranking experiments using a basic search app with lexical search functionality."
   ]
  },
  {
   "cell_type": "code",
   "execution_count": null,
   "metadata": {},
   "outputs": [],
   "source": [
    "from learntorank.passage import create_basic_search_package\n",
    "\n",
    "app_package = create_basic_search_package()"
   ]
  },
  {
   "cell_type": "markdown",
   "metadata": {},
   "source": [
    "The passage ranking dataset used here contains 8.841.823 text passages. When performing experiments, we don't need to use the full dataset to arrive at statistically significant results. We will report results for three corpus size scenarios:"
   ]
  },
  {
   "cell_type": "code",
   "execution_count": null,
   "metadata": {},
   "outputs": [],
   "source": [
    "corpus_size = [10000, 100000, 1000000]"
   ]
  },
  {
   "cell_type": "markdown",
   "metadata": {},
   "source": [
    "When sampling the corpus, we will mantain the proportion of dev queries to corpus size observed in the full dataset."
   ]
  },
  {
   "cell_type": "code",
   "execution_count": null,
   "metadata": {},
   "outputs": [
    {
     "name": "stdout",
     "output_type": "stream",
     "text": [
      "Ratio between dev queries and corpus size: 0.0063\n"
     ]
    }
   ],
   "source": [
    "ratio_devquery_corpus = 55578/8841823\n",
    "print(\n",
    "    f\"Ratio between dev queries and corpus size: {ratio_devquery_corpus:.4f}\"\n",
    ")"
   ]
  },
  {
   "cell_type": "markdown",
   "metadata": {},
   "source": [
    "### AND and OR operator"
   ]
  },
  {
   "cell_type": "code",
   "execution_count": null,
   "metadata": {},
   "outputs": [],
   "source": [
    "from learntorank.query import QueryModel, AND, OR, Ranking\n",
    "\n",
    "query_models = [\n",
    "    QueryModel(\n",
    "        name=\"and_bm25\", \n",
    "        match_phase=AND(), \n",
    "        ranking=Ranking(name=\"bm25\")\n",
    "    ),\n",
    "    QueryModel(\n",
    "        name=\"or_bm25\", \n",
    "        match_phase=OR(), \n",
    "        ranking=Ranking(name=\"bm25\")\n",
    "    )\n",
    "]"
   ]
  },
  {
   "cell_type": "code",
   "execution_count": null,
   "metadata": {},
   "outputs": [],
   "source": []
  },
  {
   "cell_type": "code",
   "execution_count": null,
   "metadata": {},
   "outputs": [],
   "source": []
  },
  {
   "cell_type": "code",
   "execution_count": null,
   "metadata": {},
   "outputs": [],
   "source": []
  },
  {
   "cell_type": "code",
   "execution_count": null,
   "metadata": {},
   "outputs": [],
   "source": []
  },
  {
   "cell_type": "code",
   "execution_count": null,
   "metadata": {},
   "outputs": [],
   "source": []
  },
  {
   "cell_type": "code",
   "execution_count": null,
   "metadata": {},
   "outputs": [],
   "source": []
  },
  {
   "cell_type": "markdown",
   "metadata": {},
   "source": [
    "[Vespa 8](https://docs.vespa.ai/en/vespa8-release-notes.html) changed the default match phase used for text matching, which affects how text fields are matched when compared with a text query. Vespa 7 used `all` by default, where it would match documents only if it contained every query term in the searched field."
   ]
  },
  {
   "cell_type": "markdown",
   "metadata": {},
   "source": [
    "In a [previous post](https://vespa-engine.github.io/learntorank/passage_uncertainty_evaluation.html), we described how to measure uncertainty around metric estimates when running search engine experiments. We illustrated the methodology using the ms marco passage ranking dataset."
   ]
  },
  {
   "cell_type": "markdown",
   "metadata": {},
   "source": []
  },
  {
   "cell_type": "markdown",
   "metadata": {},
   "source": [
    "## Queries to document corpus ratio"
   ]
  },
  {
   "cell_type": "code",
   "execution_count": null,
   "metadata": {},
   "outputs": [],
   "source": [
    "from learntorank.query import QueryModel, AND, OR, WeakAnd, Tokenize, Ranking\n",
    "\n",
    "query_models = [\n",
    "    QueryModel(\n",
    "        name=\"and_bm25\", \n",
    "        match_phase=AND(), \n",
    "        ranking=Ranking(name=\"bm25\")\n",
    "    ),\n",
    "    QueryModel(\n",
    "        name=\"or_bm25\", \n",
    "        match_phase=OR(), \n",
    "        ranking=Ranking(name=\"bm25\")\n",
    "    ),\n",
    "    QueryModel(\n",
    "        name=\"weakand_10_bm25\", \n",
    "        match_phase=WeakAnd(hits=10), \n",
    "        ranking=Ranking(name=\"bm25\")\n",
    "    ),\n",
    "    QueryModel(\n",
    "        name=\"weakand_100_bm25\", \n",
    "        match_phase=WeakAnd(hits=100), \n",
    "        ranking=Ranking(name=\"bm25\")\n",
    "    ),\n",
    "    QueryModel(\n",
    "        name=\"weakand_1000_bm25\", \n",
    "        match_phase=WeakAnd(hits=1000), \n",
    "        ranking=Ranking(name=\"bm25\")\n",
    "    ),\n",
    "    QueryModel(\n",
    "        name=\"tokenize_10_bm25\", \n",
    "        match_phase=Tokenize(hits=10), \n",
    "        ranking=Ranking(name=\"bm25\")\n",
    "    ),\n",
    "    QueryModel(\n",
    "        name=\"tokenize_100_bm25\", \n",
    "        match_phase=Tokenize(hits=100), \n",
    "        ranking=Ranking(name=\"bm25\")\n",
    "    ),\n",
    "    QueryModel(\n",
    "        name=\"tokenize_1000_bm25\", \n",
    "        match_phase=Tokenize(hits=1000), \n",
    "        ranking=Ranking(name=\"bm25\")\n",
    "    )    \n",
    "    \n",
    "]\n",
    "output_file_path = \"../data_learntorank/passage_sample_size_tokenize.csv\""
   ]
  },
  {
   "cell_type": "code",
   "execution_count": null,
   "metadata": {},
   "outputs": [
    {
     "name": "stdout",
     "output_type": "stream",
     "text": [
      "*****\n",
      "Deploy Vespa application:\n",
      "*****\n",
      "Waiting for configuration server, 0/300 seconds...\n",
      "Waiting for configuration server, 5/300 seconds...\n",
      "Waiting for application status, 0/300 seconds...\n",
      "Waiting for application status, 5/300 seconds...\n",
      "Waiting for application status, 10/300 seconds...\n",
      "Waiting for application status, 15/300 seconds...\n",
      "Waiting for application status, 20/300 seconds...\n",
      "Waiting for application status, 25/300 seconds...\n",
      "Waiting for application status, 30/300 seconds...\n",
      "Waiting for application status, 35/300 seconds...\n",
      "Finished deployment.\n",
      "*****\n",
      "Corpus size:10000\n",
      "*****\n",
      "*****\n",
      "Generate sample data:\n",
      "*****\n",
      "Number of documents: 9998\n",
      "Number of train queries: 62\n",
      "Number of train relevance judgments: 62\n",
      "Number of dev queries: 62\n",
      "Number of dev relevance judgments: 62\n",
      "*****\n",
      "Feed sample data to Vespa app:\n",
      "*****\n",
      "Successful documents fed: 9998/9998.\n",
      "Batch progress: 1/1.\n",
      "*****\n",
      "Evaluate query models\n",
      "*****\n",
      "*****\n",
      "Delete all documents\n",
      "*****\n",
      "*****\n",
      "Corpus size:100000\n",
      "*****\n",
      "*****\n",
      "Generate sample data:\n",
      "*****\n",
      "Number of documents: 99976\n",
      "Number of train queries: 628\n",
      "Number of train relevance judgments: 628\n",
      "Number of dev queries: 628\n",
      "Number of dev relevance judgments: 628\n",
      "*****\n",
      "Feed sample data to Vespa app:\n",
      "*****\n",
      "Successful documents fed: 10000/10000.\n",
      "Batch progress: 1/10.\n",
      "Successful documents fed: 10000/10000.\n",
      "Batch progress: 2/10.\n",
      "Successful documents fed: 10000/10000.\n",
      "Batch progress: 3/10.\n",
      "Successful documents fed: 10000/10000.\n",
      "Batch progress: 4/10.\n",
      "Successful documents fed: 10000/10000.\n",
      "Batch progress: 5/10.\n",
      "Successful documents fed: 10000/10000.\n",
      "Batch progress: 6/10.\n",
      "Successful documents fed: 10000/10000.\n",
      "Batch progress: 7/10.\n",
      "Successful documents fed: 10000/10000.\n",
      "Batch progress: 8/10.\n",
      "Successful documents fed: 10000/10000.\n",
      "Batch progress: 9/10.\n",
      "Successful documents fed: 9976/9976.\n",
      "Batch progress: 10/10.\n",
      "*****\n",
      "Evaluate query models\n",
      "*****\n",
      "*****\n",
      "Delete all documents\n",
      "*****\n",
      "*****\n",
      "Corpus size:1000000\n",
      "*****\n",
      "*****\n",
      "Generate sample data:\n",
      "*****\n",
      "Number of documents: 998590\n",
      "Number of train queries: 6285\n",
      "Number of train relevance judgments: 6285\n",
      "Number of dev queries: 6285\n",
      "Number of dev relevance judgments: 6285\n",
      "*****\n",
      "Feed sample data to Vespa app:\n",
      "*****\n",
      "Successful documents fed: 10000/10000.\n",
      "Batch progress: 1/100.\n",
      "Successful documents fed: 10000/10000.\n",
      "Batch progress: 2/100.\n",
      "Successful documents fed: 10000/10000.\n",
      "Batch progress: 3/100.\n",
      "Successful documents fed: 10000/10000.\n",
      "Batch progress: 4/100.\n",
      "Successful documents fed: 10000/10000.\n",
      "Batch progress: 5/100.\n",
      "Successful documents fed: 10000/10000.\n",
      "Batch progress: 6/100.\n",
      "Successful documents fed: 10000/10000.\n",
      "Batch progress: 7/100.\n",
      "Successful documents fed: 10000/10000.\n",
      "Batch progress: 8/100.\n",
      "Successful documents fed: 10000/10000.\n",
      "Batch progress: 9/100.\n",
      "Successful documents fed: 10000/10000.\n",
      "Batch progress: 10/100.\n",
      "Successful documents fed: 10000/10000.\n",
      "Batch progress: 11/100.\n",
      "Successful documents fed: 10000/10000.\n",
      "Batch progress: 12/100.\n",
      "Successful documents fed: 10000/10000.\n",
      "Batch progress: 13/100.\n",
      "Successful documents fed: 10000/10000.\n",
      "Batch progress: 14/100.\n",
      "Successful documents fed: 10000/10000.\n",
      "Batch progress: 15/100.\n",
      "Successful documents fed: 10000/10000.\n",
      "Batch progress: 16/100.\n",
      "Successful documents fed: 10000/10000.\n",
      "Batch progress: 17/100.\n",
      "Successful documents fed: 10000/10000.\n",
      "Batch progress: 18/100.\n",
      "Successful documents fed: 10000/10000.\n",
      "Batch progress: 19/100.\n",
      "Successful documents fed: 10000/10000.\n",
      "Batch progress: 20/100.\n",
      "Successful documents fed: 10000/10000.\n",
      "Batch progress: 21/100.\n",
      "Successful documents fed: 10000/10000.\n",
      "Batch progress: 22/100.\n",
      "Successful documents fed: 10000/10000.\n",
      "Batch progress: 23/100.\n",
      "Successful documents fed: 10000/10000.\n",
      "Batch progress: 24/100.\n",
      "Successful documents fed: 10000/10000.\n",
      "Batch progress: 25/100.\n",
      "Successful documents fed: 10000/10000.\n",
      "Batch progress: 26/100.\n",
      "Successful documents fed: 10000/10000.\n",
      "Batch progress: 27/100.\n",
      "Successful documents fed: 10000/10000.\n",
      "Batch progress: 28/100.\n",
      "Successful documents fed: 10000/10000.\n",
      "Batch progress: 29/100.\n",
      "Successful documents fed: 10000/10000.\n",
      "Batch progress: 30/100.\n",
      "Successful documents fed: 10000/10000.\n",
      "Batch progress: 31/100.\n",
      "Successful documents fed: 10000/10000.\n",
      "Batch progress: 32/100.\n",
      "Successful documents fed: 10000/10000.\n",
      "Batch progress: 33/100.\n",
      "Successful documents fed: 10000/10000.\n",
      "Batch progress: 34/100.\n",
      "Successful documents fed: 10000/10000.\n",
      "Batch progress: 35/100.\n",
      "Successful documents fed: 10000/10000.\n",
      "Batch progress: 36/100.\n",
      "Successful documents fed: 10000/10000.\n",
      "Batch progress: 37/100.\n",
      "Successful documents fed: 10000/10000.\n",
      "Batch progress: 38/100.\n",
      "Successful documents fed: 10000/10000.\n",
      "Batch progress: 39/100.\n",
      "Successful documents fed: 10000/10000.\n",
      "Batch progress: 40/100.\n",
      "Successful documents fed: 10000/10000.\n",
      "Batch progress: 41/100.\n",
      "Successful documents fed: 10000/10000.\n",
      "Batch progress: 42/100.\n",
      "Successful documents fed: 10000/10000.\n",
      "Batch progress: 43/100.\n",
      "Successful documents fed: 10000/10000.\n",
      "Batch progress: 44/100.\n",
      "Successful documents fed: 10000/10000.\n",
      "Batch progress: 45/100.\n",
      "Successful documents fed: 10000/10000.\n",
      "Batch progress: 46/100.\n",
      "Successful documents fed: 10000/10000.\n",
      "Batch progress: 47/100.\n",
      "Successful documents fed: 10000/10000.\n",
      "Batch progress: 48/100.\n",
      "Successful documents fed: 10000/10000.\n",
      "Batch progress: 49/100.\n",
      "Successful documents fed: 10000/10000.\n",
      "Batch progress: 50/100.\n",
      "Successful documents fed: 10000/10000.\n",
      "Batch progress: 51/100.\n",
      "Successful documents fed: 10000/10000.\n",
      "Batch progress: 52/100.\n",
      "Successful documents fed: 10000/10000.\n",
      "Batch progress: 53/100.\n",
      "Successful documents fed: 10000/10000.\n",
      "Batch progress: 54/100.\n",
      "Successful documents fed: 10000/10000.\n",
      "Batch progress: 55/100.\n",
      "Successful documents fed: 10000/10000.\n",
      "Batch progress: 56/100.\n",
      "Successful documents fed: 10000/10000.\n",
      "Batch progress: 57/100.\n",
      "Successful documents fed: 10000/10000.\n",
      "Batch progress: 58/100.\n",
      "Successful documents fed: 10000/10000.\n",
      "Batch progress: 59/100.\n",
      "Successful documents fed: 10000/10000.\n",
      "Batch progress: 60/100.\n",
      "Successful documents fed: 10000/10000.\n",
      "Batch progress: 61/100.\n",
      "Successful documents fed: 10000/10000.\n",
      "Batch progress: 62/100.\n",
      "Successful documents fed: 10000/10000.\n",
      "Batch progress: 63/100.\n",
      "Successful documents fed: 10000/10000.\n",
      "Batch progress: 64/100.\n",
      "Successful documents fed: 10000/10000.\n",
      "Batch progress: 65/100.\n",
      "Successful documents fed: 10000/10000.\n",
      "Batch progress: 66/100.\n",
      "Successful documents fed: 10000/10000.\n",
      "Batch progress: 67/100.\n",
      "Successful documents fed: 10000/10000.\n",
      "Batch progress: 68/100.\n",
      "Successful documents fed: 10000/10000.\n",
      "Batch progress: 69/100.\n",
      "Successful documents fed: 10000/10000.\n",
      "Batch progress: 70/100.\n",
      "Successful documents fed: 10000/10000.\n",
      "Batch progress: 71/100.\n",
      "Successful documents fed: 10000/10000.\n",
      "Batch progress: 72/100.\n",
      "Successful documents fed: 10000/10000.\n",
      "Batch progress: 73/100.\n",
      "Successful documents fed: 10000/10000.\n",
      "Batch progress: 74/100.\n",
      "Successful documents fed: 10000/10000.\n",
      "Batch progress: 75/100.\n",
      "Successful documents fed: 10000/10000.\n",
      "Batch progress: 76/100.\n",
      "Successful documents fed: 10000/10000.\n",
      "Batch progress: 77/100.\n",
      "Successful documents fed: 10000/10000.\n",
      "Batch progress: 78/100.\n",
      "Successful documents fed: 10000/10000.\n",
      "Batch progress: 79/100.\n",
      "Successful documents fed: 10000/10000.\n",
      "Batch progress: 80/100.\n",
      "Successful documents fed: 10000/10000.\n",
      "Batch progress: 81/100.\n",
      "Successful documents fed: 10000/10000.\n",
      "Batch progress: 82/100.\n",
      "Successful documents fed: 10000/10000.\n",
      "Batch progress: 83/100.\n",
      "Successful documents fed: 10000/10000.\n",
      "Batch progress: 84/100.\n",
      "Successful documents fed: 10000/10000.\n",
      "Batch progress: 85/100.\n",
      "Successful documents fed: 10000/10000.\n",
      "Batch progress: 86/100.\n",
      "Successful documents fed: 10000/10000.\n",
      "Batch progress: 87/100.\n",
      "Successful documents fed: 10000/10000.\n",
      "Batch progress: 88/100.\n",
      "Successful documents fed: 10000/10000.\n",
      "Batch progress: 89/100.\n",
      "Successful documents fed: 10000/10000.\n",
      "Batch progress: 90/100.\n",
      "Successful documents fed: 10000/10000.\n",
      "Batch progress: 91/100.\n",
      "Successful documents fed: 10000/10000.\n",
      "Batch progress: 92/100.\n",
      "Successful documents fed: 10000/10000.\n",
      "Batch progress: 93/100.\n",
      "Successful documents fed: 10000/10000.\n",
      "Batch progress: 94/100.\n",
      "Successful documents fed: 10000/10000.\n",
      "Batch progress: 95/100.\n",
      "Successful documents fed: 10000/10000.\n",
      "Batch progress: 96/100.\n",
      "Successful documents fed: 10000/10000.\n",
      "Batch progress: 97/100.\n",
      "Successful documents fed: 10000/10000.\n",
      "Batch progress: 98/100.\n",
      "Successful documents fed: 10000/10000.\n",
      "Batch progress: 99/100.\n",
      "Successful documents fed: 8590/8590.\n",
      "Batch progress: 100/100.\n",
      "*****\n",
      "Evaluate query models\n",
      "*****\n",
      "*****\n",
      "Delete all documents\n",
      "*****\n",
      "*****\n",
      "Stop and remove Docker container\n",
      "*****\n"
     ]
    }
   ],
   "source": [
    "from learntorank.passage import evaluate_query_models\n",
    "\n",
    "estimates = evaluate_query_models(\n",
    "    app_package=app_package,\n",
    "    query_models=query_models,\n",
    "    metrics=metrics,\n",
    "    corpus_size=corpus_size,\n",
    "    output_file_path=output_file_path, \n",
    "    **{\"presentation.timing\": \"true\"}\n",
    ")"
   ]
  },
  {
   "cell_type": "code",
   "execution_count": null,
   "metadata": {},
   "outputs": [],
   "source": [
    "import pandas as pd\n",
    "import numpy as np\n",
    "\n",
    "estimates = pd.read_csv(\"../data_learntorank/passage_sample_size_tokenize.csv\")"
   ]
  },
  {
   "cell_type": "code",
   "execution_count": null,
   "metadata": {},
   "outputs": [
    {
     "data": {
      "text/html": [
       "<div>\n",
       "<style scoped>\n",
       "    .dataframe tbody tr th:only-of-type {\n",
       "        vertical-align: middle;\n",
       "    }\n",
       "\n",
       "    .dataframe tbody tr th {\n",
       "        vertical-align: top;\n",
       "    }\n",
       "\n",
       "    .dataframe thead th {\n",
       "        text-align: right;\n",
       "    }\n",
       "</style>\n",
       "<table border=\"1\" class=\"dataframe\">\n",
       "  <thead>\n",
       "    <tr style=\"text-align: right;\">\n",
       "      <th></th>\n",
       "      <th>metric</th>\n",
       "      <th>model</th>\n",
       "      <th>low</th>\n",
       "      <th>median</th>\n",
       "      <th>high</th>\n",
       "      <th>corpus_size</th>\n",
       "      <th>number_queries</th>\n",
       "    </tr>\n",
       "  </thead>\n",
       "  <tbody>\n",
       "    <tr>\n",
       "      <th>0</th>\n",
       "      <td>match_ratio</td>\n",
       "      <td>and_bm25</td>\n",
       "      <td>0.079810</td>\n",
       "      <td>0.098449</td>\n",
       "      <td>0.128048</td>\n",
       "      <td>10000</td>\n",
       "      <td>62</td>\n",
       "    </tr>\n",
       "    <tr>\n",
       "      <th>1</th>\n",
       "      <td>match_ratio</td>\n",
       "      <td>or_bm25</td>\n",
       "      <td>0.533923</td>\n",
       "      <td>0.613232</td>\n",
       "      <td>0.680577</td>\n",
       "      <td>10000</td>\n",
       "      <td>62</td>\n",
       "    </tr>\n",
       "    <tr>\n",
       "      <th>2</th>\n",
       "      <td>match_ratio</td>\n",
       "      <td>tokenize_1000_bm25</td>\n",
       "      <td>0.079558</td>\n",
       "      <td>0.099129</td>\n",
       "      <td>0.130496</td>\n",
       "      <td>10000</td>\n",
       "      <td>62</td>\n",
       "    </tr>\n",
       "    <tr>\n",
       "      <th>3</th>\n",
       "      <td>match_ratio</td>\n",
       "      <td>tokenize_100_bm25</td>\n",
       "      <td>0.079003</td>\n",
       "      <td>0.098992</td>\n",
       "      <td>0.126782</td>\n",
       "      <td>10000</td>\n",
       "      <td>62</td>\n",
       "    </tr>\n",
       "    <tr>\n",
       "      <th>4</th>\n",
       "      <td>match_ratio</td>\n",
       "      <td>tokenize_10_bm25</td>\n",
       "      <td>0.079476</td>\n",
       "      <td>0.098050</td>\n",
       "      <td>0.127144</td>\n",
       "      <td>10000</td>\n",
       "      <td>62</td>\n",
       "    </tr>\n",
       "    <tr>\n",
       "      <th>...</th>\n",
       "      <td>...</td>\n",
       "      <td>...</td>\n",
       "      <td>...</td>\n",
       "      <td>...</td>\n",
       "      <td>...</td>\n",
       "      <td>...</td>\n",
       "      <td>...</td>\n",
       "    </tr>\n",
       "    <tr>\n",
       "      <th>115</th>\n",
       "      <td>search_time</td>\n",
       "      <td>tokenize_100_bm25</td>\n",
       "      <td>0.031814</td>\n",
       "      <td>0.032603</td>\n",
       "      <td>0.033446</td>\n",
       "      <td>1000000</td>\n",
       "      <td>6285</td>\n",
       "    </tr>\n",
       "    <tr>\n",
       "      <th>116</th>\n",
       "      <td>search_time</td>\n",
       "      <td>tokenize_10_bm25</td>\n",
       "      <td>0.050140</td>\n",
       "      <td>0.051434</td>\n",
       "      <td>0.052727</td>\n",
       "      <td>1000000</td>\n",
       "      <td>6285</td>\n",
       "    </tr>\n",
       "    <tr>\n",
       "      <th>117</th>\n",
       "      <td>search_time</td>\n",
       "      <td>weakand_1000_bm25</td>\n",
       "      <td>0.081691</td>\n",
       "      <td>0.083300</td>\n",
       "      <td>0.085111</td>\n",
       "      <td>1000000</td>\n",
       "      <td>6285</td>\n",
       "    </tr>\n",
       "    <tr>\n",
       "      <th>118</th>\n",
       "      <td>search_time</td>\n",
       "      <td>weakand_100_bm25</td>\n",
       "      <td>0.028443</td>\n",
       "      <td>0.029154</td>\n",
       "      <td>0.029903</td>\n",
       "      <td>1000000</td>\n",
       "      <td>6285</td>\n",
       "    </tr>\n",
       "    <tr>\n",
       "      <th>119</th>\n",
       "      <td>search_time</td>\n",
       "      <td>weakand_10_bm25</td>\n",
       "      <td>0.023935</td>\n",
       "      <td>0.024557</td>\n",
       "      <td>0.025239</td>\n",
       "      <td>1000000</td>\n",
       "      <td>6285</td>\n",
       "    </tr>\n",
       "  </tbody>\n",
       "</table>\n",
       "<p>120 rows × 7 columns</p>\n",
       "</div>"
      ],
      "text/plain": [
       "          metric               model       low    median      high  \\\n",
       "0    match_ratio            and_bm25  0.079810  0.098449  0.128048   \n",
       "1    match_ratio             or_bm25  0.533923  0.613232  0.680577   \n",
       "2    match_ratio  tokenize_1000_bm25  0.079558  0.099129  0.130496   \n",
       "3    match_ratio   tokenize_100_bm25  0.079003  0.098992  0.126782   \n",
       "4    match_ratio    tokenize_10_bm25  0.079476  0.098050  0.127144   \n",
       "..           ...                 ...       ...       ...       ...   \n",
       "115  search_time   tokenize_100_bm25  0.031814  0.032603  0.033446   \n",
       "116  search_time    tokenize_10_bm25  0.050140  0.051434  0.052727   \n",
       "117  search_time   weakand_1000_bm25  0.081691  0.083300  0.085111   \n",
       "118  search_time    weakand_100_bm25  0.028443  0.029154  0.029903   \n",
       "119  search_time     weakand_10_bm25  0.023935  0.024557  0.025239   \n",
       "\n",
       "     corpus_size  number_queries  \n",
       "0          10000              62  \n",
       "1          10000              62  \n",
       "2          10000              62  \n",
       "3          10000              62  \n",
       "4          10000              62  \n",
       "..           ...             ...  \n",
       "115      1000000            6285  \n",
       "116      1000000            6285  \n",
       "117      1000000            6285  \n",
       "118      1000000            6285  \n",
       "119      1000000            6285  \n",
       "\n",
       "[120 rows x 7 columns]"
      ]
     },
     "execution_count": null,
     "metadata": {},
     "output_type": "execute_result"
    }
   ],
   "source": [
    "estimates"
   ]
  },
  {
   "cell_type": "code",
   "execution_count": null,
   "metadata": {},
   "outputs": [],
   "source": [
    "#estimates[[\"corpus_size\", \"number_queries\"]] = estimates[[\"corpus_size\", \"number_queries\"]].apply(pd.to_numeric)"
   ]
  },
  {
   "cell_type": "code",
   "execution_count": null,
   "metadata": {},
   "outputs": [],
   "source": [
    "#print(estimates[estimates.corpus_size.apply(lambda x: isinstance(x, str))])"
   ]
  },
  {
   "cell_type": "code",
   "execution_count": null,
   "metadata": {},
   "outputs": [],
   "source": [
    "#print(estimates[pd.to_numeric(estimates.corpus_size, errors='coerce').isnull()])"
   ]
  },
  {
   "cell_type": "code",
   "execution_count": null,
   "metadata": {},
   "outputs": [],
   "source": [
    "#estimates.iloc[0]"
   ]
  },
  {
   "cell_type": "code",
   "execution_count": null,
   "metadata": {},
   "outputs": [],
   "source": [
    "#estimates.dtypes"
   ]
  },
  {
   "cell_type": "code",
   "execution_count": null,
   "metadata": {},
   "outputs": [],
   "source": [
    "#bm25_vs_native_rank = estimates.loc[estimates.model.isin([\"bm25\", \"native_rank\"])]"
   ]
  },
  {
   "cell_type": "code",
   "execution_count": null,
   "metadata": {},
   "outputs": [],
   "source": [
    "#bm25_vs_native_rank.describe()"
   ]
  },
  {
   "cell_type": "code",
   "execution_count": null,
   "metadata": {},
   "outputs": [],
   "source": [
    "from plotnine import *\n",
    "\n",
    "def plot_metrics(estimates):\n",
    "    return (ggplot(estimates, aes(colour = \"model\")) + \n",
    "            scale_x_log10(breaks=list(estimates.corpus_size.unique()), labels=list(estimates.corpus_size.unique())) + \n",
    "            theme(\n",
    "                panel_grid_minor=element_blank(),\n",
    "                subplots_adjust={'wspace': 0.15},\n",
    "                legend_position = 'top'\n",
    "            ) +\n",
    "            geom_point(aes(x = \"corpus_size\", y = \"median\")) + \n",
    "            geom_line(aes(x = \"corpus_size\", y = \"median\")) + \n",
    "            geom_errorbar(aes(x=\"corpus_size\", ymin=\"low\",ymax=\"high\")) + \n",
    "            facet_wrap(\"metric\", scales=\"free_y\") + labs(y=\"Metric value\")\n",
    "           )"
   ]
  },
  {
   "cell_type": "code",
   "execution_count": null,
   "metadata": {},
   "outputs": [
    {
     "data": {
      "image/png": "[encoded data removed]",
      "text/plain": [
       "<Figure size 640x480 with 5 Axes>"
      ]
     },
     "metadata": {},
     "output_type": "display_data"
    },
    {
     "name": "stdout",
     "output_type": "stream",
     "text": [
      "\n"
     ]
    }
   ],
   "source": [
    "print(plot_metrics(estimates))"
   ]
  },
  {
   "cell_type": "code",
   "execution_count": null,
   "metadata": {},
   "outputs": [
    {
     "ename": "NameError",
     "evalue": "name 'bm25_vs_native_rank' is not defined",
     "output_type": "error",
     "traceback": [
      "\u001b[0;31m---------------------------------------------------------------------------\u001b[0m",
      "\u001b[0;31mNameError\u001b[0m                                 Traceback (most recent call last)",
      "Cell \u001b[0;32mIn [19], line 1\u001b[0m\n\u001b[0;32m----> 1\u001b[0m \u001b[38;5;28mprint\u001b[39m(plot_metrics(\u001b[43mbm25_vs_native_rank\u001b[49m))\n",
      "\u001b[0;31mNameError\u001b[0m: name 'bm25_vs_native_rank' is not defined"
     ]
    }
   ],
   "source": [
    "print(plot_metrics(bm25_vs_native_rank))"
   ]
  },
  {
   "cell_type": "code",
   "execution_count": null,
   "metadata": {},
   "outputs": [],
   "source": [
    "weak_and_estimates = estimates.loc[~estimates.model.isin([\"native_rank\"])]"
   ]
  },
  {
   "cell_type": "code",
   "execution_count": null,
   "metadata": {},
   "outputs": [
    {
     "data": {
      "image/png": "[encoded data removed]",
      "text/plain": [
       "<Figure size 640x480 with 4 Axes>"
      ]
     },
     "metadata": {},
     "output_type": "display_data"
    },
    {
     "name": "stdout",
     "output_type": "stream",
     "text": [
      "\n"
     ]
    }
   ],
   "source": [
    "print(plot_metrics(weak_and_estimates))"
   ]
  },
  {
   "cell_type": "code",
   "execution_count": null,
   "metadata": {},
   "outputs": [],
   "source": [
    "weak_and_estimates"
   ]
  },
  {
   "cell_type": "code",
   "execution_count": null,
   "metadata": {},
   "outputs": [],
   "source": [
    "weakand_1000000_estimates = weak_and_estimates.loc[weak_and_estimates.corpus_size == 1000000]"
   ]
  },
  {
   "cell_type": "code",
   "execution_count": null,
   "metadata": {},
   "outputs": [],
   "source": [
    "(ggplot(weakand_1000000_estimates) + \n",
    " #scale_x_log10(breaks=list(estimates.corpus_size.unique()), labels=list(estimates.corpus_size.unique())) + \n",
    " theme(\n",
    "     panel_grid_minor=element_blank(),\n",
    "     axis_text_x=element_text(rotation=90, hjust=1),\n",
    "    subplots_adjust={'wspace': 0.25},\n",
    "    legend_position = 'top'\n",
    ") +\n",
    "geom_point(aes(x = \"model\", y = \"median\")) + \n",
    "geom_line(aes(x = \"model\", y = \"median\")) + \n",
    "geom_errorbar(aes(x=\"model\", ymin=\"low\",ymax=\"high\")) + \n",
    "facet_wrap(\"metric\", scales=\"free_y\") + labs(y=\"Metric value\")\n",
    ")"
   ]
  },
  {
   "cell_type": "markdown",
   "metadata": {},
   "source": [
    "## TODO"
   ]
  },
  {
   "cell_type": "markdown",
   "metadata": {},
   "source": [
    "* Eu vou usar OR como match phase e dps faco uma analise com hits do weakAND"
   ]
  },
  {
   "cell_type": "markdown",
   "metadata": {},
   "source": [
    "* Incluir o timing como comparar OR e weakAnd"
   ]
  },
  {
   "cell_type": "markdown",
   "metadata": {},
   "source": [
    "## Cleanup the environment"
   ]
  },
  {
   "cell_type": "code",
   "execution_count": null,
   "metadata": {},
   "outputs": [
    {
     "ename": "NameError",
     "evalue": "name 'vespa_docker' is not defined",
     "output_type": "error",
     "traceback": [
      "\u001b[0;31m---------------------------------------------------------------------------\u001b[0m",
      "\u001b[0;31mNameError\u001b[0m                                 Traceback (most recent call last)",
      "Cell \u001b[0;32mIn [7], line 1\u001b[0m\n\u001b[0;32m----> 1\u001b[0m \u001b[43mvespa_docker\u001b[49m\u001b[38;5;241m.\u001b[39mcontainer\u001b[38;5;241m.\u001b[39mstop(timeout\u001b[38;5;241m=\u001b[39m\u001b[38;5;241m600\u001b[39m)\n\u001b[1;32m      2\u001b[0m vespa_docker\u001b[38;5;241m.\u001b[39mcontainer\u001b[38;5;241m.\u001b[39mremove()\n",
      "\u001b[0;31mNameError\u001b[0m: name 'vespa_docker' is not defined"
     ]
    }
   ],
   "source": [
    "vespa_docker.container.stop(timeout=600)\n",
    "vespa_docker.container.remove()"
   ]
  },
  {
   "cell_type": "code",
   "execution_count": null,
   "metadata": {},
   "outputs": [],
   "source": [
    "#|hide\n",
    "nbdev_export()"
   ]
  }
 ],
 "metadata": {
  "kernelspec": {
   "display_name": "learntorank",
   "language": "python",
   "name": "learntorank"
  }
 },
 "nbformat": 4,
 "nbformat_minor": 4
}
